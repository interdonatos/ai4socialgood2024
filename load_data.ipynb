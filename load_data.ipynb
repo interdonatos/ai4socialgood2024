{
 "cells": [
  {
   "cell_type": "code",
   "execution_count": null,
   "metadata": {},
   "outputs": [],
   "source": [
    "import pandas as pd \n",
    "import os"
   ]
  },
  {
   "cell_type": "code",
   "execution_count": null,
   "metadata": {},
   "outputs": [],
   "source": [
    "# Set the paths to the datasets\n",
    "data_path = \"/Users/interdonato/Documents/Dagstuhl/DATA\"\n",
    "LM_deals_path = \"LandMatrix_12.02.2024/export_all_csv/deals.csv\"\n",
    "ACLED_folder = \"ACLED_12.02.2024\"\n",
    "WFP_indicators_path = \"WFP_HUNGERMAP_12.02.2024/global-summary.csv\"\n",
    "# set data_path as working directory (optional)\n",
    "os.chdir(data_path)\n"
   ]
  },
  {
   "cell_type": "code",
   "execution_count": null,
   "metadata": {},
   "outputs": [],
   "source": [
    "# load Land Matrix Data\n",
    "df_lm_deals = pd.read_csv(LM_deals_path,sep=\";\")\n",
    "print(\"Land Matrix data loaded. Rows:\",len(df_lm_investors))\n"
   ]
  },
  {
   "cell_type": "code",
   "execution_count": null,
   "metadata": {},
   "outputs": [],
   "source": [
    "# Load ACLED Data\n",
    "# Pay attention : loading all ACLED Data into a single DataFrame can be memory intensive on some computers. Different strategies can be adopted. \n",
    "df_acled = pd.concat((pd.read_csv(os.path.join(ACLED_folder, f)) for f in os.listdir(ACLED_folder) if f.endswith('.csv')), ignore_index=True)\n",
    "print(\"ACLED data loaded. Rows:\", len(df_acled))"
   ]
  },
  {
   "cell_type": "code",
   "execution_count": null,
   "metadata": {},
   "outputs": [],
   "source": [
    "# load WFP data\n",
    "df_wfp = pd.read_csv(WFP_indicators_path,sep=';')\n",
    "print(\"WFP Data loaded. Rows:\", len(df_wfp))"
   ]
  },
  {
   "cell_type": "code",
   "execution_count": null,
   "metadata": {},
   "outputs": [],
   "source": [
    "# Select all Land Matrix deals for a given target country\n",
    "selected_country = \"Senegal\"\n",
    "country_deals = df_lm_deals[df_lm_deals['Target country'] == selected_country]\n",
    "print(\"Deals for target country %s selected. Rows: %d\" % (selected_country,len(country_deals)))"
   ]
  },
  {
   "cell_type": "code",
   "execution_count": null,
   "metadata": {},
   "outputs": [],
   "source": [
    "# Select all ACLED violent events for a given target country\n",
    "selected_country = \"Senegal\"\n",
    "country_events = df_acled[df_acled['country'] == selected_country]\n",
    "print(\"Violent events for country %s selected. Rows: %d\" % (selected_country,len(country_events)))"
   ]
  },
  {
   "cell_type": "code",
   "execution_count": null,
   "metadata": {},
   "outputs": [],
   "source": [
    "# Extract WFP indicators for a given country\n",
    "selected_country = \"Senegal\"\n",
    "country_indicators = df_wfp.loc[df_wfp['COUNTRY'] == selected_country]\n",
    "print(\"Violent events for country %s selected.\" % selected_country)\n",
    "print(country_indicators.values)"
   ]
  },
  {
   "cell_type": "code",
   "execution_count": null,
   "metadata": {},
   "outputs": [],
   "source": []
  }
 ],
 "metadata": {
  "kernelspec": {
   "display_name": "Python 3",
   "language": "python",
   "name": "python3"
  },
  "language_info": {
   "codemirror_mode": {
    "name": "ipython",
    "version": 3
   },
   "file_extension": ".py",
   "mimetype": "text/x-python",
   "name": "python",
   "nbconvert_exporter": "python",
   "pygments_lexer": "ipython3",
   "version": "3.11.7"
  }
 },
 "nbformat": 4,
 "nbformat_minor": 2
}
